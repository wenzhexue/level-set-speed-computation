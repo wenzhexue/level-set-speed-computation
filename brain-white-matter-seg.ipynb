{
 "metadata": {
  "name": "",
  "signature": "sha256:6f3880c32909a17acf1d64003218cbdbb02cb4e035784f19c3908fa14ed8cbfb"
 },
 "nbformat": 3,
 "nbformat_minor": 0,
 "worksheets": [
  {
   "cells": [
    {
     "cell_type": "code",
     "collapsed": false,
     "input": [
      "%matplotlib inline\n",
      "import SimpleITK as sitk\n",
      "import numpy as np\n",
      "from sklearn import neighbors, datasets\n",
      "import matplotlib.pyplot as plt\n",
      "from matplotlib.colors import ListedColormap\n",
      "from math import sqrt"
     ],
     "language": "python",
     "metadata": {},
     "outputs": [],
     "prompt_number": 1
    },
    {
     "cell_type": "code",
     "collapsed": false,
     "input": [
      "print sitk.Version()"
     ],
     "language": "python",
     "metadata": {},
     "outputs": [
      {
       "output_type": "stream",
       "stream": "stdout",
       "text": [
        "SimpleITK Version: 0.8.0\n",
        "Compiled: Mar 13 2014 20:29:02\n",
        "\n"
       ]
      }
     ],
     "prompt_number": 2
    },
    {
     "cell_type": "code",
     "collapsed": false,
     "input": [
      "t1_img = sitk.ReadImage('./data/t1_icbm_normal_1mm_pn3_rf0.mhd')\n",
      "t2_img = sitk.ReadImage('./data/t2_icbm_normal_1mm_pn3_rf0.mhd')"
     ],
     "language": "python",
     "metadata": {},
     "outputs": [],
     "prompt_number": 3
    },
    {
     "cell_type": "code",
     "collapsed": false,
     "input": [
      "# read foreground and background seed points\n",
      "foreground_seeds = np.genfromtxt('./data/foregroundSeedFile_1.txt', dtype=int)\n",
      "background_seeds = np.genfromtxt('./data/backgroundSeedFile_1.txt', dtype=int)\n",
      "print \"Show some sample seed points\"\n",
      "print foreground_seeds[:10, :]\n",
      "print background_seeds[:10, :]"
     ],
     "language": "python",
     "metadata": {},
     "outputs": [
      {
       "output_type": "stream",
       "stream": "stdout",
       "text": [
        "Show some sample seed points\n",
        "[[123 107  95]\n",
        " [124 107  95]\n",
        " [125 107  95]\n",
        " [126 107  95]\n",
        " [127 107  95]\n",
        " [122 108  95]\n",
        " [123 108  95]\n",
        " [124 108  95]\n",
        " [125 108  95]\n",
        " [126 108  95]]\n",
        "[[ 72 113  95]\n",
        " [ 73 113  95]\n",
        " [ 74 113  95]\n",
        " [ 75 113  95]\n",
        " [ 76 113  95]\n",
        " [ 77 113  95]\n",
        " [ 78 113  95]\n",
        " [ 79 113  95]\n",
        " [ 80 113  95]\n",
        " [ 81 113  95]]\n"
       ]
      }
     ],
     "prompt_number": 17
    },
    {
     "cell_type": "code",
     "collapsed": false,
     "input": [
      "foreground_intensities = np.zeros([len(foreground_seeds), 2])\n",
      "for i, seed in enumerate(foreground_seeds):\n",
      "    foreground_intensities[i, :] = [t1_img.GetPixel(*seed), \n",
      "                                    t2_img.GetPixel(*seed)]\n",
      "background_intensities = np.zeros([len(background_seeds), 2])\n",
      "for i, seed in enumerate(background_seeds):\n",
      "    background_intensities[i, :] = [t1_img.GetPixel(*seed), \n",
      "                                    t2_img.GetPixel(*seed)]"
     ],
     "language": "python",
     "metadata": {},
     "outputs": [],
     "prompt_number": 5
    },
    {
     "cell_type": "code",
     "collapsed": false,
     "input": [
      "print foreground_intensities[:10, :]\n",
      "print background_intensities[:10, :]"
     ],
     "language": "python",
     "metadata": {},
     "outputs": [
      {
       "output_type": "stream",
       "stream": "stdout",
       "text": [
        "[[ 139.   67.]\n",
        " [ 136.   68.]\n",
        " [ 139.   67.]\n",
        " [ 147.   59.]\n",
        " [ 145.   76.]\n",
        " [ 137.   59.]\n",
        " [ 132.   72.]\n",
        " [ 146.   73.]\n",
        " [ 139.   56.]\n",
        " [ 147.   59.]]\n",
        "[[ 102.   85.]\n",
        " [  92.  134.]\n",
        " [  49.  195.]\n",
        " [  40.  221.]\n",
        " [  38.  244.]\n",
        " [  41.  233.]\n",
        " [  45.  228.]\n",
        " [  46.  213.]\n",
        " [  38.  227.]\n",
        " [  48.  212.]]\n"
       ]
      }
     ],
     "prompt_number": 6
    },
    {
     "cell_type": "code",
     "collapsed": false,
     "input": [
      "X = np.concatenate((background_intensities, foreground_intensities), axis=0)\n",
      "y = np.concatenate((np.zeros(len(background_intensities)),\n",
      "                    np.ones(len(foreground_intensities))), axis=0)"
     ],
     "language": "python",
     "metadata": {},
     "outputs": [],
     "prompt_number": 7
    },
    {
     "cell_type": "code",
     "collapsed": false,
     "input": [
      "t1_stats = sitk.StatisticsImageFilter()\n",
      "t1_stats.Execute(t1_img)\n",
      "t2_stats = sitk.StatisticsImageFilter()\n",
      "t2_stats.Execute(t2_img)\n",
      "t1_min, t1_max = t1_stats.GetMinimum(), t1_stats.GetMaximum()\n",
      "t2_min, t2_max = t2_stats.GetMinimum(), t2_stats.GetMaximum()\n",
      "\n",
      "# create meshgrid for feature space\n",
      "h = 1\n",
      "xx, yy = np.meshgrid(np.arange(t1_min, t1_max+1, h), \n",
      "                     np.arange(t2_min, t2_max+1, h))"
     ],
     "language": "python",
     "metadata": {},
     "outputs": [],
     "prompt_number": 8
    },
    {
     "cell_type": "code",
     "collapsed": false,
     "input": [
      "n_neighbors_background = int(sqrt(len(background_intensities)))\n",
      "knn_clf_background = neighbors.KNeighborsClassifier(n_neighbors_background)\n",
      "knn_clf_background.fit(background_intensities, np.zeros(len(background_intensities)))\n",
      "dist, temp = knn_clf_background.kneighbors(np.c_[xx.ravel(), yy.ravel()])\n",
      "background_dist = np.average(dist, axis=1)\n",
      "\n",
      "n_neighbors_foreground = int(sqrt(len(foreground_intensities)))\n",
      "knn_clf_foreground = neighbors.KNeighborsClassifier(n_neighbors_foreground)\n",
      "knn_clf_foreground.fit(foreground_intensities, np.zeros(len(foreground_intensities)))\n",
      "dist, temp = knn_clf_foreground.kneighbors(np.c_[xx.ravel(), yy.ravel()])\n",
      "foreground_dist = np.average(dist, axis=1)\n",
      "\n",
      "Z_dist = (background_dist - foreground_dist) / (background_dist + foreground_dist)\n",
      "Z_dist = Z_dist.reshape(xx.shape)\n",
      "Z_dist.shape"
     ],
     "language": "python",
     "metadata": {},
     "outputs": [
      {
       "metadata": {},
       "output_type": "pyout",
       "prompt_number": 9,
       "text": [
        "(256L, 256L)"
       ]
      }
     ],
     "prompt_number": 9
    },
    {
     "cell_type": "code",
     "collapsed": false,
     "input": [
      "cm = plt.cm.RdBu\n",
      "cm2 = plt.cm.RdYlGn\n",
      "cm_bright = ListedColormap(['#FF0000', '#0000FF'])\n",
      "\n",
      "fig = plt.figure(figsize=(12, 7))\n",
      "ax1 = plt.subplot(121)\n",
      "ax1.scatter(X[:, 0], X[:, 1], c=y, cmap=cm_bright)\n",
      "ax1.set_xlim(xx.min(), xx.max())\n",
      "ax1.set_ylim(yy.min(), yy.max())\n",
      "ax2 = plt.subplot(122)\n",
      "cax2 = ax2.contourf(xx, yy, Z_dist, cmap=cm, alpha=.8)\n",
      "ax2.set_title('Speed value in 2D feature space')\n",
      "ax2.set_xlim(xx.min(), xx.max())\n",
      "ax2.set_ylim(yy.min(), yy.max())\n",
      "ax2.set_xlabel('T1 image')\n",
      "ax2.set_ylabel('T2 image')\n",
      "plt.colorbar(cax2)\n",
      "\n",
      "plt.show()"
     ],
     "language": "python",
     "metadata": {},
     "outputs": [
      {
       "metadata": {},
       "output_type": "display_data",
       "png": "[encoded data removed]",
       "text": [
        "<matplotlib.figure.Figure at 0x9e78940>"
       ]
      }
     ],
     "prompt_number": 10
    },
    {
     "cell_type": "code",
     "collapsed": false,
     "input": [
      "# compute the speed value for each voxel\n",
      "w, h, num_slices = t1_img.GetSize()\n",
      "speed_img = sitk.Image(w, h, num_slices, sitk.sitkFloat32)\n",
      "speed_data = sitk.GetArrayFromImage(speed_img)\n",
      "t1_data = sitk.GetArrayFromImage(t1_img)\n",
      "t2_data = sitk.GetArrayFromImage(t2_img)\n",
      "for ii, intensity in enumerate(speed_data[:]):\n",
      "    speed_data[:][ii] = Z_dist[t1_data[:][ii], t2_data[:][ii]]\n",
      "\n",
      "speed_img = sitk.GetImageFromArray(speed_data)\n",
      "\n",
      "# sitk.WriteImage(speed_img, './data/speed_vol_icbm_normal_1mm_pn3_rf0.mhd')"
     ],
     "language": "python",
     "metadata": {},
     "outputs": [],
     "prompt_number": 11
    },
    {
     "cell_type": "code",
     "collapsed": false,
     "input": [],
     "language": "python",
     "metadata": {},
     "outputs": [],
     "prompt_number": 11
    }
   ],
   "metadata": {}
  }
 ]
}